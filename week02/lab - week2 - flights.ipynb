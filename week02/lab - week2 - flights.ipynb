{
 "cells": [
  {
   "cell_type": "markdown",
   "id": "9624c109",
   "metadata": {},
   "source": [
    "# Lab - Week2"
   ]
  },
  {
   "cell_type": "markdown",
   "id": "59d23c40",
   "metadata": {},
   "source": [
    "## Questions:\n",
    "\n",
    "1. When do the first and last flights leave each day?\n",
    "\n",
    "1. When there is a missing value in dep_time then this is an indication of canceled flight. Find the number of cancelled flights for each (carrier, origin) combination.\n",
    "\n",
    "1. Which carrier has the worst dep_delays?\n",
    "\n",
    "1. Which plane (tailnum) has the worst on-time record?\n",
    "\n",
    "1. For each plane, count the number of flights before the first delay of greater than 1 hour.\n",
    "\n",
    "1. By using the flights data find all flights:\n",
    "\n",
    "1. Had an arrival delay of two or more hours.\n",
    "\n",
    "1. Flew to Houston (IAH or HOU)\n",
    "\n",
    "1. Were operated by American, Delta\n",
    "\n",
    "1. How many values are missing in dep_time?\n",
    "\n",
    "1. Sort flight to find fastest flight.\n",
    "\n",
    "1. Which flights travelled the shortest?\n",
    "\n",
    "1. Merge `flights` dataframe with `weather` dataframe and investigate if weather has any affect on delays"
   ]
  },
  {
   "cell_type": "code",
   "execution_count": null,
   "id": "2d3b40dc",
   "metadata": {},
   "outputs": [],
   "source": [
    "import pandas as pd\n",
    "\n",
    "flights = pd.read_csv('https://raw.githubusercontent.com/msaricaumbc/DS_data/master/nyc_flights.csv')\n",
    "\n",
    "weather = pd.read_csv('https://raw.githubusercontent.com/msaricaumbc/DS_data/master/relational_data/nyc_weather.csv')\n",
    "\n",
    "# example merge:\n",
    "# flights.merge(weather, on= ['year', 'month', 'day', 'hour', 'origin'])"
   ]
  },
  {
   "cell_type": "code",
   "execution_count": null,
   "id": "ddd11e30",
   "metadata": {},
   "outputs": [],
   "source": []
  }
 ],
 "metadata": {
  "kernelspec": {
   "display_name": "Python 3 (ipykernel)",
   "language": "python",
   "name": "python3"
  },
  "language_info": {
   "codemirror_mode": {
    "name": "ipython",
    "version": 3
   },
   "file_extension": ".py",
   "mimetype": "text/x-python",
   "name": "python",
   "nbconvert_exporter": "python",
   "pygments_lexer": "ipython3",
   "version": "3.10.9"
  }
 },
 "nbformat": 4,
 "nbformat_minor": 5
}
